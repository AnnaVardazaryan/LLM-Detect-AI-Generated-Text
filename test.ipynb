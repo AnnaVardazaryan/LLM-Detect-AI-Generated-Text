{
 "cells": [
  {
   "cell_type": "code",
   "id": "initial_id",
   "metadata": {
    "collapsed": true,
    "ExecuteTime": {
     "end_time": "2025-04-15T12:28:37.276722Z",
     "start_time": "2025-04-15T12:28:37.193011Z"
    }
   },
   "source": [
    "import zipfile\n",
    "import os\n",
    "\n",
    "# Define the path to the zip file and the target directory\n",
    "zip_path = 'llm_project (1).zip'\n",
    "extract_dir = 'data'\n",
    "\n",
    "# Create the directory if it doesn't exist\n",
    "os.makedirs(extract_dir, exist_ok=True)\n",
    "\n",
    "# Unzip the file\n",
    "with zipfile.ZipFile(zip_path, 'r') as zip_ref:\n",
    "    zip_ref.extractall(extract_dir)\n",
    "\n",
    "print(f\"Files extracted to: {extract_dir}\")"
   ],
   "outputs": [
    {
     "name": "stdout",
     "output_type": "stream",
     "text": [
      "Files extracted to: data\n"
     ]
    }
   ],
   "execution_count": 11
  },
  {
   "metadata": {
    "ExecuteTime": {
     "end_time": "2025-04-15T12:29:33.572547Z",
     "start_time": "2025-04-15T12:29:33.454927Z"
    }
   },
   "cell_type": "code",
   "source": "ls data",
   "id": "992d3fa350ac8581",
   "outputs": [
    {
     "name": "stdout",
     "output_type": "stream",
     "text": [
      "ai_generated_train_essays.csv        test_essays.csv      train_prompts.csv\r\n",
      "ai_generated_train_essays_gpt-4.csv  train_essays.csv\r\n",
      "sample_submission.csv                train_essays_v1.csv\r\n"
     ]
    }
   ],
   "execution_count": 13
  },
  {
   "metadata": {
    "ExecuteTime": {
     "end_time": "2025-04-14T19:54:10.436582Z",
     "start_time": "2025-04-14T19:54:10.434241Z"
    }
   },
   "cell_type": "code",
   "source": [
    "\n",
    "\n",
    "import warnings\n",
    "warnings.simplefilter('ignore')"
   ],
   "id": "de1a1862c3e71759",
   "outputs": [],
   "execution_count": 10
  },
  {
   "metadata": {
    "ExecuteTime": {
     "end_time": "2025-04-14T19:50:55.063058Z",
     "start_time": "2025-04-14T19:50:44.182359Z"
    }
   },
   "cell_type": "code",
   "source": "pip install pandas",
   "id": "6121b7b6b11c67de",
   "outputs": [
    {
     "name": "stdout",
     "output_type": "stream",
     "text": [
      "Defaulting to user installation because normal site-packages is not writeable\r\n",
      "Requirement already satisfied: pandas in /home/user933/.local/lib/python3.10/site-packages (2.2.2)\r\n",
      "Collecting numpy>=1.22.4\r\n",
      "  Downloading numpy-2.2.4-cp310-cp310-manylinux_2_17_x86_64.manylinux2014_x86_64.whl (16.4 MB)\r\n",
      "\u001B[2K     \u001B[90m━━━━━━━━━━━━━━━━━━━━━━━━━━━━━━━━━━━━━━━━\u001B[0m \u001B[32m16.4/16.4 MB\u001B[0m \u001B[31m3.4 MB/s\u001B[0m eta \u001B[36m0:00:00\u001B[0m00:01\u001B[0m00:01\u001B[0m\r\n",
      "\u001B[?25hRequirement already satisfied: python-dateutil>=2.8.2 in /home/user933/.local/lib/python3.10/site-packages (from pandas) (2.9.0.post0)\r\n",
      "Requirement already satisfied: tzdata>=2022.7 in /home/user933/.local/lib/python3.10/site-packages (from pandas) (2024.1)\r\n",
      "Requirement already satisfied: pytz>=2020.1 in /usr/lib/python3/dist-packages (from pandas) (2022.1)\r\n",
      "Requirement already satisfied: six>=1.5 in /usr/lib/python3/dist-packages (from python-dateutil>=2.8.2->pandas) (1.16.0)\r\n",
      "Installing collected packages: numpy\r\n",
      "\u001B[31mERROR: pip's dependency resolver does not currently take into account all the packages that are installed. This behaviour is the source of the following dependency conflicts.\r\n",
      "numba 0.60.0 requires numpy<2.1,>=1.22, but you have numpy 2.2.4 which is incompatible.\u001B[0m\u001B[31m\r\n",
      "\u001B[0mSuccessfully installed numpy-2.2.4\r\n",
      "Note: you may need to restart the kernel to use updated packages.\n"
     ]
    }
   ],
   "execution_count": 4
  },
  {
   "metadata": {
    "ExecuteTime": {
     "end_time": "2025-04-14T19:53:18.590565Z",
     "start_time": "2025-04-14T19:53:17.950197Z"
    }
   },
   "cell_type": "code",
   "source": "import pandas as pd",
   "id": "d49748a50573c886",
   "outputs": [],
   "execution_count": 7
  },
  {
   "metadata": {
    "ExecuteTime": {
     "end_time": "2025-04-14T19:53:19.883457Z",
     "start_time": "2025-04-14T19:53:19.835295Z"
    }
   },
   "cell_type": "code",
   "source": [
    "df_ess = pd.read_csv(\"data/train_essays.csv\")\n",
    "df_ess"
   ],
   "id": "eaa7e9f57432e3c1",
   "outputs": [
    {
     "data": {
      "text/plain": [
       "            id  prompt_id                                               text  \\\n",
       "0     0059830c          0  Cars. Cars have been around since they became ...   \n",
       "1     005db917          0  Transportation is a large necessity in most co...   \n",
       "2     008f63e3          0  \"America's love affair with it's vehicles seem...   \n",
       "3     00940276          0  How often do you ride in a car? Do you drive a...   \n",
       "4     00c39458          0  Cars are a wonderful thing. They are perhaps o...   \n",
       "...        ...        ...                                                ...   \n",
       "1373  fe6ff9a5          1  There has been a fuss about the Elector Colleg...   \n",
       "1374  ff669174          0  Limiting car usage has many advantages. Such a...   \n",
       "1375  ffa247e0          0  There's a new trend that has been developing f...   \n",
       "1376  ffc237e9          0  As we all know cars are a big part of our soci...   \n",
       "1377  ffe1ca0d          0  Cars have been around since the 1800's and hav...   \n",
       "\n",
       "      generated  \n",
       "0             0  \n",
       "1             0  \n",
       "2             0  \n",
       "3             0  \n",
       "4             0  \n",
       "...         ...  \n",
       "1373          0  \n",
       "1374          0  \n",
       "1375          0  \n",
       "1376          0  \n",
       "1377          0  \n",
       "\n",
       "[1378 rows x 4 columns]"
      ],
      "text/html": [
       "<div>\n",
       "<style scoped>\n",
       "    .dataframe tbody tr th:only-of-type {\n",
       "        vertical-align: middle;\n",
       "    }\n",
       "\n",
       "    .dataframe tbody tr th {\n",
       "        vertical-align: top;\n",
       "    }\n",
       "\n",
       "    .dataframe thead th {\n",
       "        text-align: right;\n",
       "    }\n",
       "</style>\n",
       "<table border=\"1\" class=\"dataframe\">\n",
       "  <thead>\n",
       "    <tr style=\"text-align: right;\">\n",
       "      <th></th>\n",
       "      <th>id</th>\n",
       "      <th>prompt_id</th>\n",
       "      <th>text</th>\n",
       "      <th>generated</th>\n",
       "    </tr>\n",
       "  </thead>\n",
       "  <tbody>\n",
       "    <tr>\n",
       "      <th>0</th>\n",
       "      <td>0059830c</td>\n",
       "      <td>0</td>\n",
       "      <td>Cars. Cars have been around since they became ...</td>\n",
       "      <td>0</td>\n",
       "    </tr>\n",
       "    <tr>\n",
       "      <th>1</th>\n",
       "      <td>005db917</td>\n",
       "      <td>0</td>\n",
       "      <td>Transportation is a large necessity in most co...</td>\n",
       "      <td>0</td>\n",
       "    </tr>\n",
       "    <tr>\n",
       "      <th>2</th>\n",
       "      <td>008f63e3</td>\n",
       "      <td>0</td>\n",
       "      <td>\"America's love affair with it's vehicles seem...</td>\n",
       "      <td>0</td>\n",
       "    </tr>\n",
       "    <tr>\n",
       "      <th>3</th>\n",
       "      <td>00940276</td>\n",
       "      <td>0</td>\n",
       "      <td>How often do you ride in a car? Do you drive a...</td>\n",
       "      <td>0</td>\n",
       "    </tr>\n",
       "    <tr>\n",
       "      <th>4</th>\n",
       "      <td>00c39458</td>\n",
       "      <td>0</td>\n",
       "      <td>Cars are a wonderful thing. They are perhaps o...</td>\n",
       "      <td>0</td>\n",
       "    </tr>\n",
       "    <tr>\n",
       "      <th>...</th>\n",
       "      <td>...</td>\n",
       "      <td>...</td>\n",
       "      <td>...</td>\n",
       "      <td>...</td>\n",
       "    </tr>\n",
       "    <tr>\n",
       "      <th>1373</th>\n",
       "      <td>fe6ff9a5</td>\n",
       "      <td>1</td>\n",
       "      <td>There has been a fuss about the Elector Colleg...</td>\n",
       "      <td>0</td>\n",
       "    </tr>\n",
       "    <tr>\n",
       "      <th>1374</th>\n",
       "      <td>ff669174</td>\n",
       "      <td>0</td>\n",
       "      <td>Limiting car usage has many advantages. Such a...</td>\n",
       "      <td>0</td>\n",
       "    </tr>\n",
       "    <tr>\n",
       "      <th>1375</th>\n",
       "      <td>ffa247e0</td>\n",
       "      <td>0</td>\n",
       "      <td>There's a new trend that has been developing f...</td>\n",
       "      <td>0</td>\n",
       "    </tr>\n",
       "    <tr>\n",
       "      <th>1376</th>\n",
       "      <td>ffc237e9</td>\n",
       "      <td>0</td>\n",
       "      <td>As we all know cars are a big part of our soci...</td>\n",
       "      <td>0</td>\n",
       "    </tr>\n",
       "    <tr>\n",
       "      <th>1377</th>\n",
       "      <td>ffe1ca0d</td>\n",
       "      <td>0</td>\n",
       "      <td>Cars have been around since the 1800's and hav...</td>\n",
       "      <td>0</td>\n",
       "    </tr>\n",
       "  </tbody>\n",
       "</table>\n",
       "<p>1378 rows × 4 columns</p>\n",
       "</div>"
      ]
     },
     "execution_count": 8,
     "metadata": {},
     "output_type": "execute_result"
    }
   ],
   "execution_count": 8
  },
  {
   "metadata": {
    "ExecuteTime": {
     "end_time": "2025-04-14T19:53:40.721163Z",
     "start_time": "2025-04-14T19:53:40.715001Z"
    }
   },
   "cell_type": "code",
   "source": [
    "df_pro = pd.read_csv(\"data/train_prompts.csv\")\n",
    "df_pro"
   ],
   "id": "16a9801b3d235391",
   "outputs": [
    {
     "data": {
      "text/plain": [
       "   prompt_id                       prompt_name  \\\n",
       "0          0                   Car-free cities   \n",
       "1          1  Does the electoral college work?   \n",
       "\n",
       "                                        instructions  \\\n",
       "0  Write an explanatory essay to inform fellow ci...   \n",
       "1  Write a letter to your state senator in which ...   \n",
       "\n",
       "                                         source_text  \n",
       "0  # In German Suburb, Life Goes On Without Cars ...  \n",
       "1  # What Is the Electoral College? by the Office...  "
      ],
      "text/html": [
       "<div>\n",
       "<style scoped>\n",
       "    .dataframe tbody tr th:only-of-type {\n",
       "        vertical-align: middle;\n",
       "    }\n",
       "\n",
       "    .dataframe tbody tr th {\n",
       "        vertical-align: top;\n",
       "    }\n",
       "\n",
       "    .dataframe thead th {\n",
       "        text-align: right;\n",
       "    }\n",
       "</style>\n",
       "<table border=\"1\" class=\"dataframe\">\n",
       "  <thead>\n",
       "    <tr style=\"text-align: right;\">\n",
       "      <th></th>\n",
       "      <th>prompt_id</th>\n",
       "      <th>prompt_name</th>\n",
       "      <th>instructions</th>\n",
       "      <th>source_text</th>\n",
       "    </tr>\n",
       "  </thead>\n",
       "  <tbody>\n",
       "    <tr>\n",
       "      <th>0</th>\n",
       "      <td>0</td>\n",
       "      <td>Car-free cities</td>\n",
       "      <td>Write an explanatory essay to inform fellow ci...</td>\n",
       "      <td># In German Suburb, Life Goes On Without Cars ...</td>\n",
       "    </tr>\n",
       "    <tr>\n",
       "      <th>1</th>\n",
       "      <td>1</td>\n",
       "      <td>Does the electoral college work?</td>\n",
       "      <td>Write a letter to your state senator in which ...</td>\n",
       "      <td># What Is the Electoral College? by the Office...</td>\n",
       "    </tr>\n",
       "  </tbody>\n",
       "</table>\n",
       "</div>"
      ]
     },
     "execution_count": 9,
     "metadata": {},
     "output_type": "execute_result"
    }
   ],
   "execution_count": 9
  },
  {
   "metadata": {
    "ExecuteTime": {
     "end_time": "2025-05-30T07:47:29.282808Z",
     "start_time": "2025-05-30T07:47:18.560830Z"
    }
   },
   "cell_type": "code",
   "source": [
    "import pandas as pd\n",
    "\n",
    "# Load the CSV file\n",
    "df = pd.read_csv('/home/user933/Desktop/asds/LLM-Detect-AI-Generated-Text/data/combined_df_with_source.csv')\n",
    "\n",
    "# Check for NaN values in the 'generated' column\n",
    "nan_in_generated = df['generated'].isna().sum()\n",
    "\n",
    "print(f\"Number of NaN values in 'generated' column: {nan_in_generated}\")"
   ],
   "id": "e10dc42105b9b065",
   "outputs": [
    {
     "name": "stdout",
     "output_type": "stream",
     "text": [
      "Number of NaN values in 'generated' column: 0\n"
     ]
    }
   ],
   "execution_count": 9
  },
  {
   "metadata": {
    "ExecuteTime": {
     "end_time": "2025-05-30T07:47:36.274467Z",
     "start_time": "2025-05-30T07:47:32.797864Z"
    }
   },
   "cell_type": "code",
   "source": [
    "# check the ddf duplicates count\n",
    "duplicates_count = df.duplicated().sum()"
   ],
   "id": "256ef5b2e3f06413",
   "outputs": [],
   "execution_count": 10
  },
  {
   "metadata": {
    "ExecuteTime": {
     "end_time": "2025-05-30T07:47:38.696765Z",
     "start_time": "2025-05-30T07:47:38.692573Z"
    }
   },
   "cell_type": "code",
   "source": "duplicates_count",
   "id": "659ed5ea1ad3dc87",
   "outputs": [
    {
     "data": {
      "text/plain": [
       "np.int64(259396)"
      ]
     },
     "execution_count": 11,
     "metadata": {},
     "output_type": "execute_result"
    }
   ],
   "execution_count": 11
  },
  {
   "metadata": {
    "ExecuteTime": {
     "end_time": "2025-05-30T07:48:06.028925Z",
     "start_time": "2025-05-30T07:48:06.025215Z"
    }
   },
   "cell_type": "code",
   "source": "df.shape",
   "id": "1b383f4ecff36239",
   "outputs": [
    {
     "data": {
      "text/plain": [
       "(845982, 3)"
      ]
     },
     "execution_count": 12,
     "metadata": {},
     "output_type": "execute_result"
    }
   ],
   "execution_count": 12
  },
  {
   "metadata": {
    "ExecuteTime": {
     "end_time": "2025-05-30T07:48:29.239575Z",
     "start_time": "2025-05-30T07:48:28.636021Z"
    }
   },
   "cell_type": "code",
   "source": "df = df.drop_duplicates(subset=['text'])",
   "id": "c13c8829e6766f5",
   "outputs": [],
   "execution_count": 13
  },
  {
   "metadata": {
    "ExecuteTime": {
     "end_time": "2025-05-30T07:48:33.867315Z",
     "start_time": "2025-05-30T07:48:33.862670Z"
    }
   },
   "cell_type": "code",
   "source": "df.shape",
   "id": "8b57a7e9703c9dc4",
   "outputs": [
    {
     "data": {
      "text/plain": [
       "(493704, 3)"
      ]
     },
     "execution_count": 14,
     "metadata": {},
     "output_type": "execute_result"
    }
   ],
   "execution_count": 14
  },
  {
   "metadata": {
    "ExecuteTime": {
     "end_time": "2025-05-30T07:49:04.975049Z",
     "start_time": "2025-05-30T07:48:53.859995Z"
    }
   },
   "cell_type": "code",
   "source": [
    "import pandas as pd\n",
    "from sklearn.model_selection import train_test_split\n",
    "\n",
    "\n",
    "# Create stratify key\n",
    "df['stratify_key'] = df['source'].astype(str) + \"_\" + df['generated'].astype(str)\n",
    "\n",
    "# Split the data\n",
    "train_df, test_df = train_test_split(\n",
    "    df,\n",
    "    test_size=0.2,\n",
    "    stratify=df['stratify_key'],\n",
    "    random_state=42\n",
    ")\n",
    "\n",
    "# Drop the helper column from both train and test sets\n",
    "train_df.drop(columns='stratify_key', inplace=True)\n",
    "test_df.drop(columns='stratify_key', inplace=True)\n",
    "\n",
    "# Save to CSV files\n",
    "train_df.to_csv('/home/user933/Desktop/asds/LLM-Detect-AI-Generated-Text/data/new_train.csv', index=False)\n",
    "test_df.to_csv('/home/user933/Desktop/asds/LLM-Detect-AI-Generated-Text/data/new_test.csv', index=False)\n",
    "    "
   ],
   "id": "62317d5bd9258d79",
   "outputs": [],
   "execution_count": 15
  },
  {
   "metadata": {
    "ExecuteTime": {
     "end_time": "2025-05-30T16:37:30.310370Z",
     "start_time": "2025-05-30T16:37:30.021231Z"
    }
   },
   "cell_type": "code",
   "source": [
    "import spacy\n",
    "import pandas as pd\n",
    "\n",
    "# Load English pipeline\n",
    "nlp = spacy.load(\"en_core_web_sm\")\n",
    "\n",
    "PRONOUNS = {\"i\", \"we\", \"you\", \"he\", \"she\", \"they\", \"it\", \"me\", \"us\", \"him\", \"her\", \"them\"}\n",
    "\n",
    "def extract_style_features_spacy(df, text_col=\"text\"):\n",
    "    rows = []\n",
    "\n",
    "    for doc in nlp.pipe(df[text_col], batch_size=32):\n",
    "        words = [token.text for token in doc if token.is_alpha]\n",
    "        num_words = len(words)\n",
    "        num_chars = len(doc.text)\n",
    "        num_sentences = len(list(doc.sents))\n",
    "        unique_words = set(words)\n",
    "\n",
    "        row = {\n",
    "            \"avg_word_len\": sum(len(w) for w in words) / num_words if num_words else 0,\n",
    "            \"avg_sentence_len\": num_words / num_sentences if num_sentences else 0,\n",
    "            \"num_sentences\": num_sentences,\n",
    "            \"num_words\": num_words,\n",
    "            \"num_chars\": num_chars,\n",
    "            \"lexical_diversity\": len(unique_words) / num_words if num_words else 0,\n",
    "            \"num_exclamations\": doc.text.count(\"!\"),\n",
    "            \"num_questions\": doc.text.count(\"?\"),\n",
    "            \"num_commas\": doc.text.count(\",\"),\n",
    "            \"num_semis\": doc.text.count(\";\"),\n",
    "            \"num_pronouns\": sum(1 for token in doc if token.text.lower() in PRONOUNS)\n",
    "        }\n",
    "\n",
    "        rows.append(row)\n",
    "\n",
    "    return pd.DataFrame(rows)\n"
   ],
   "id": "3da37404ee575d04",
   "outputs": [],
   "execution_count": 12
  },
  {
   "metadata": {
    "ExecuteTime": {
     "end_time": "2025-05-30T13:37:14.304620Z",
     "start_time": "2025-05-30T13:35:31.949851Z"
    }
   },
   "cell_type": "code",
   "source": [
    "df = pd.read_csv(\"data/train_dataset.csv\")\n",
    "style_feats = extract_style_features_spacy(df)\n",
    "\n",
    "# Combine with label\n",
    "final_df = pd.concat([df[\"text\"], style_feats, df[\"generated\"]], axis=1)\n",
    "final_df.to_csv(\"train_with_spacy_features.csv\", index=False)"
   ],
   "id": "82a76e8fe07ed59",
   "outputs": [],
   "execution_count": 6
  },
  {
   "metadata": {
    "ExecuteTime": {
     "end_time": "2025-05-30T16:38:27.045406Z",
     "start_time": "2025-05-30T16:38:26.143498Z"
    }
   },
   "cell_type": "code",
   "source": [
    "df = pd.read_csv(\"data/texts_labled.csv\")\n",
    "style_feats = extract_style_features_spacy(df)\n",
    "\n",
    "# Combine with label\n",
    "final_df = pd.concat([df[\"text\"], style_feats, df[\"generated\"]], axis=1)\n",
    "final_df.to_csv(\"manual_test_data.csv\", index=False)"
   ],
   "id": "69940f87f6e8b427",
   "outputs": [],
   "execution_count": 13
  },
  {
   "metadata": {
    "ExecuteTime": {
     "end_time": "2025-05-30T16:38:33.550186Z",
     "start_time": "2025-05-30T16:38:33.538294Z"
    }
   },
   "cell_type": "code",
   "source": "final_df",
   "id": "417c3c6395db4fc9",
   "outputs": [
    {
     "data": {
      "text/plain": [
       "                                                 text  avg_word_len  \\\n",
       "0   When talking about working, some people always...      4.303571   \n",
       "1   People often question why we spend such a sign...      4.844011   \n",
       "2   Work is not merely an individual endeavor—it i...      5.070336   \n",
       "3   Many people believe that work is just a means ...      4.831081   \n",
       "4   At the outside, it might seem obvious that job...      4.635945   \n",
       "5   Many people hold the view that face-to-face co...      4.459547   \n",
       "6   With the rapid growth of high technology, comp...      4.859848   \n",
       "7   Success, in its truest form, is often the resu...      5.356589   \n",
       "8   Success rarely comes to those who sit idle, dr...      4.607287   \n",
       "9   The debate between taking risks and planning c...      4.879828   \n",
       "10  According to the words of Salustius One is a c...      4.401734   \n",
       "11  Once upon time, a man pleaded a piece of land ...      5.003061   \n",
       "12  Life is a series of decisions, and in many sit...      5.113821   \n",
       "13  Every day, we make choices. Some are small, li...      4.019022   \n",
       "\n",
       "    avg_sentence_len  num_sentences  num_words  num_chars  lexical_diversity  \\\n",
       "0          14.000000             24        336       1833           0.529762   \n",
       "1          15.608696             23        359       2154           0.582173   \n",
       "2          12.576923             26        327       2035           0.629969   \n",
       "3          12.869565             23        296       1790           0.638514   \n",
       "4          22.842105             19        434       2482           0.518433   \n",
       "5          16.263158             19        309       1721           0.511327   \n",
       "6          20.307692             13        264       1573           0.541667   \n",
       "7          17.200000             15        258       1676           0.674419   \n",
       "8          14.529412             17        247       1428           0.668016   \n",
       "9          13.705882             17        233       1407           0.678112   \n",
       "10         26.615385             13        346       1894           0.502890   \n",
       "11         19.215686             51        980       6011           0.500000   \n",
       "12         15.375000             24        369       2323           0.615176   \n",
       "13         13.142857             28        368       1925           0.470109   \n",
       "\n",
       "    num_exclamations  num_questions  num_commas  num_semis  num_pronouns  \\\n",
       "0                  0              1          16          1            40   \n",
       "1                  0              1          29          0            19   \n",
       "2                  0              0          19          0            14   \n",
       "3                  0              0          25          1            13   \n",
       "4                  0              0          13          0            16   \n",
       "5                  0              0          16          0            17   \n",
       "6                  0              0          13          1            12   \n",
       "7                  0              0          23          0             4   \n",
       "8                  0              0          15          0            12   \n",
       "9                  0              0          13          1             8   \n",
       "10                 0              0           9          0            13   \n",
       "11                 0              0          66          0            27   \n",
       "12                 0              1          28          1            12   \n",
       "13                 1              0          21          0            39   \n",
       "\n",
       "    generated  \n",
       "0           0  \n",
       "1           1  \n",
       "2           1  \n",
       "3           1  \n",
       "4           0  \n",
       "5           0  \n",
       "6           0  \n",
       "7           1  \n",
       "8           1  \n",
       "9           1  \n",
       "10          0  \n",
       "11          0  \n",
       "12          1  \n",
       "13          1  "
      ],
      "text/html": [
       "<div>\n",
       "<style scoped>\n",
       "    .dataframe tbody tr th:only-of-type {\n",
       "        vertical-align: middle;\n",
       "    }\n",
       "\n",
       "    .dataframe tbody tr th {\n",
       "        vertical-align: top;\n",
       "    }\n",
       "\n",
       "    .dataframe thead th {\n",
       "        text-align: right;\n",
       "    }\n",
       "</style>\n",
       "<table border=\"1\" class=\"dataframe\">\n",
       "  <thead>\n",
       "    <tr style=\"text-align: right;\">\n",
       "      <th></th>\n",
       "      <th>text</th>\n",
       "      <th>avg_word_len</th>\n",
       "      <th>avg_sentence_len</th>\n",
       "      <th>num_sentences</th>\n",
       "      <th>num_words</th>\n",
       "      <th>num_chars</th>\n",
       "      <th>lexical_diversity</th>\n",
       "      <th>num_exclamations</th>\n",
       "      <th>num_questions</th>\n",
       "      <th>num_commas</th>\n",
       "      <th>num_semis</th>\n",
       "      <th>num_pronouns</th>\n",
       "      <th>generated</th>\n",
       "    </tr>\n",
       "  </thead>\n",
       "  <tbody>\n",
       "    <tr>\n",
       "      <th>0</th>\n",
       "      <td>When talking about working, some people always...</td>\n",
       "      <td>4.303571</td>\n",
       "      <td>14.000000</td>\n",
       "      <td>24</td>\n",
       "      <td>336</td>\n",
       "      <td>1833</td>\n",
       "      <td>0.529762</td>\n",
       "      <td>0</td>\n",
       "      <td>1</td>\n",
       "      <td>16</td>\n",
       "      <td>1</td>\n",
       "      <td>40</td>\n",
       "      <td>0</td>\n",
       "    </tr>\n",
       "    <tr>\n",
       "      <th>1</th>\n",
       "      <td>People often question why we spend such a sign...</td>\n",
       "      <td>4.844011</td>\n",
       "      <td>15.608696</td>\n",
       "      <td>23</td>\n",
       "      <td>359</td>\n",
       "      <td>2154</td>\n",
       "      <td>0.582173</td>\n",
       "      <td>0</td>\n",
       "      <td>1</td>\n",
       "      <td>29</td>\n",
       "      <td>0</td>\n",
       "      <td>19</td>\n",
       "      <td>1</td>\n",
       "    </tr>\n",
       "    <tr>\n",
       "      <th>2</th>\n",
       "      <td>Work is not merely an individual endeavor—it i...</td>\n",
       "      <td>5.070336</td>\n",
       "      <td>12.576923</td>\n",
       "      <td>26</td>\n",
       "      <td>327</td>\n",
       "      <td>2035</td>\n",
       "      <td>0.629969</td>\n",
       "      <td>0</td>\n",
       "      <td>0</td>\n",
       "      <td>19</td>\n",
       "      <td>0</td>\n",
       "      <td>14</td>\n",
       "      <td>1</td>\n",
       "    </tr>\n",
       "    <tr>\n",
       "      <th>3</th>\n",
       "      <td>Many people believe that work is just a means ...</td>\n",
       "      <td>4.831081</td>\n",
       "      <td>12.869565</td>\n",
       "      <td>23</td>\n",
       "      <td>296</td>\n",
       "      <td>1790</td>\n",
       "      <td>0.638514</td>\n",
       "      <td>0</td>\n",
       "      <td>0</td>\n",
       "      <td>25</td>\n",
       "      <td>1</td>\n",
       "      <td>13</td>\n",
       "      <td>1</td>\n",
       "    </tr>\n",
       "    <tr>\n",
       "      <th>4</th>\n",
       "      <td>At the outside, it might seem obvious that job...</td>\n",
       "      <td>4.635945</td>\n",
       "      <td>22.842105</td>\n",
       "      <td>19</td>\n",
       "      <td>434</td>\n",
       "      <td>2482</td>\n",
       "      <td>0.518433</td>\n",
       "      <td>0</td>\n",
       "      <td>0</td>\n",
       "      <td>13</td>\n",
       "      <td>0</td>\n",
       "      <td>16</td>\n",
       "      <td>0</td>\n",
       "    </tr>\n",
       "    <tr>\n",
       "      <th>5</th>\n",
       "      <td>Many people hold the view that face-to-face co...</td>\n",
       "      <td>4.459547</td>\n",
       "      <td>16.263158</td>\n",
       "      <td>19</td>\n",
       "      <td>309</td>\n",
       "      <td>1721</td>\n",
       "      <td>0.511327</td>\n",
       "      <td>0</td>\n",
       "      <td>0</td>\n",
       "      <td>16</td>\n",
       "      <td>0</td>\n",
       "      <td>17</td>\n",
       "      <td>0</td>\n",
       "    </tr>\n",
       "    <tr>\n",
       "      <th>6</th>\n",
       "      <td>With the rapid growth of high technology, comp...</td>\n",
       "      <td>4.859848</td>\n",
       "      <td>20.307692</td>\n",
       "      <td>13</td>\n",
       "      <td>264</td>\n",
       "      <td>1573</td>\n",
       "      <td>0.541667</td>\n",
       "      <td>0</td>\n",
       "      <td>0</td>\n",
       "      <td>13</td>\n",
       "      <td>1</td>\n",
       "      <td>12</td>\n",
       "      <td>0</td>\n",
       "    </tr>\n",
       "    <tr>\n",
       "      <th>7</th>\n",
       "      <td>Success, in its truest form, is often the resu...</td>\n",
       "      <td>5.356589</td>\n",
       "      <td>17.200000</td>\n",
       "      <td>15</td>\n",
       "      <td>258</td>\n",
       "      <td>1676</td>\n",
       "      <td>0.674419</td>\n",
       "      <td>0</td>\n",
       "      <td>0</td>\n",
       "      <td>23</td>\n",
       "      <td>0</td>\n",
       "      <td>4</td>\n",
       "      <td>1</td>\n",
       "    </tr>\n",
       "    <tr>\n",
       "      <th>8</th>\n",
       "      <td>Success rarely comes to those who sit idle, dr...</td>\n",
       "      <td>4.607287</td>\n",
       "      <td>14.529412</td>\n",
       "      <td>17</td>\n",
       "      <td>247</td>\n",
       "      <td>1428</td>\n",
       "      <td>0.668016</td>\n",
       "      <td>0</td>\n",
       "      <td>0</td>\n",
       "      <td>15</td>\n",
       "      <td>0</td>\n",
       "      <td>12</td>\n",
       "      <td>1</td>\n",
       "    </tr>\n",
       "    <tr>\n",
       "      <th>9</th>\n",
       "      <td>The debate between taking risks and planning c...</td>\n",
       "      <td>4.879828</td>\n",
       "      <td>13.705882</td>\n",
       "      <td>17</td>\n",
       "      <td>233</td>\n",
       "      <td>1407</td>\n",
       "      <td>0.678112</td>\n",
       "      <td>0</td>\n",
       "      <td>0</td>\n",
       "      <td>13</td>\n",
       "      <td>1</td>\n",
       "      <td>8</td>\n",
       "      <td>1</td>\n",
       "    </tr>\n",
       "    <tr>\n",
       "      <th>10</th>\n",
       "      <td>According to the words of Salustius One is a c...</td>\n",
       "      <td>4.401734</td>\n",
       "      <td>26.615385</td>\n",
       "      <td>13</td>\n",
       "      <td>346</td>\n",
       "      <td>1894</td>\n",
       "      <td>0.502890</td>\n",
       "      <td>0</td>\n",
       "      <td>0</td>\n",
       "      <td>9</td>\n",
       "      <td>0</td>\n",
       "      <td>13</td>\n",
       "      <td>0</td>\n",
       "    </tr>\n",
       "    <tr>\n",
       "      <th>11</th>\n",
       "      <td>Once upon time, a man pleaded a piece of land ...</td>\n",
       "      <td>5.003061</td>\n",
       "      <td>19.215686</td>\n",
       "      <td>51</td>\n",
       "      <td>980</td>\n",
       "      <td>6011</td>\n",
       "      <td>0.500000</td>\n",
       "      <td>0</td>\n",
       "      <td>0</td>\n",
       "      <td>66</td>\n",
       "      <td>0</td>\n",
       "      <td>27</td>\n",
       "      <td>0</td>\n",
       "    </tr>\n",
       "    <tr>\n",
       "      <th>12</th>\n",
       "      <td>Life is a series of decisions, and in many sit...</td>\n",
       "      <td>5.113821</td>\n",
       "      <td>15.375000</td>\n",
       "      <td>24</td>\n",
       "      <td>369</td>\n",
       "      <td>2323</td>\n",
       "      <td>0.615176</td>\n",
       "      <td>0</td>\n",
       "      <td>1</td>\n",
       "      <td>28</td>\n",
       "      <td>1</td>\n",
       "      <td>12</td>\n",
       "      <td>1</td>\n",
       "    </tr>\n",
       "    <tr>\n",
       "      <th>13</th>\n",
       "      <td>Every day, we make choices. Some are small, li...</td>\n",
       "      <td>4.019022</td>\n",
       "      <td>13.142857</td>\n",
       "      <td>28</td>\n",
       "      <td>368</td>\n",
       "      <td>1925</td>\n",
       "      <td>0.470109</td>\n",
       "      <td>1</td>\n",
       "      <td>0</td>\n",
       "      <td>21</td>\n",
       "      <td>0</td>\n",
       "      <td>39</td>\n",
       "      <td>1</td>\n",
       "    </tr>\n",
       "  </tbody>\n",
       "</table>\n",
       "</div>"
      ]
     },
     "execution_count": 14,
     "metadata": {},
     "output_type": "execute_result"
    }
   ],
   "execution_count": 14
  },
  {
   "metadata": {
    "ExecuteTime": {
     "end_time": "2025-05-30T13:38:44.678202Z",
     "start_time": "2025-05-30T13:38:17.524902Z"
    }
   },
   "cell_type": "code",
   "source": [
    "df = pd.read_csv(\"data/test_dataset.csv\")\n",
    "style_feats = extract_style_features_spacy(df)\n",
    "\n",
    "# Combine with label\n",
    "final_df = pd.concat([df[\"text\"], style_feats, df[\"generated\"]], axis=1)\n",
    "final_df.to_csv(\"test_with_spacy_features.csv\", index=False)"
   ],
   "id": "3054efbb88004806",
   "outputs": [],
   "execution_count": 9
  },
  {
   "metadata": {
    "ExecuteTime": {
     "end_time": "2025-05-30T16:21:37.040318Z",
     "start_time": "2025-05-30T16:21:37.036894Z"
    }
   },
   "cell_type": "code",
   "source": "final_df.columns",
   "id": "fb7114c0327ba9de",
   "outputs": [
    {
     "data": {
      "text/plain": [
       "Index(['text', 'avg_word_len', 'avg_sentence_len', 'num_sentences',\n",
       "       'num_words', 'num_chars', 'lexical_diversity', 'num_exclamations',\n",
       "       'num_questions', 'num_commas', 'num_semis', 'num_pronouns',\n",
       "       'generated'],\n",
       "      dtype='object')"
      ]
     },
     "execution_count": 11,
     "metadata": {},
     "output_type": "execute_result"
    }
   ],
   "execution_count": 11
  },
  {
   "metadata": {},
   "cell_type": "code",
   "outputs": [],
   "execution_count": null,
   "source": "",
   "id": "aa7d317c559a534d"
  }
 ],
 "metadata": {
  "kernelspec": {
   "display_name": "LLM Detect (conda)",
   "language": "python",
   "name": "llm-detect"
  },
  "language_info": {
   "codemirror_mode": {
    "name": "ipython",
    "version": 2
   },
   "file_extension": ".py",
   "mimetype": "text/x-python",
   "name": "python",
   "nbconvert_exporter": "python",
   "pygments_lexer": "ipython2",
   "version": "2.7.6"
  }
 },
 "nbformat": 4,
 "nbformat_minor": 5
}
